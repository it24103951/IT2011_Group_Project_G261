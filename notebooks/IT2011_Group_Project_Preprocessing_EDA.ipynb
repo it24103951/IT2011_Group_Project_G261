{
 "cells": [
  {
   "cell_type": "code",
   "execution_count": 1,
   "id": "96a7d8ff-9c8c-4e98-814a-5194c9dbd526",
   "metadata": {},
   "outputs": [],
   "source": [
    "import numpy as np\n"
   ]
  },
  {
   "cell_type": "code",
   "execution_count": 4,
   "id": "5fd1d234-f0c2-4e23-b09c-16f81326cfaa",
   "metadata": {},
   "outputs": [],
   "source": [
    "import json\n",
    "with open('../artifacts/kaggle.json','r') as file:\n",
    "       data = json.load(file)"
   ]
  },
  {
   "cell_type": "code",
   "execution_count": 5,
   "id": "fd6076b5-1620-4f8b-8ec0-3899c74d5f28",
   "metadata": {},
   "outputs": [
    {
     "data": {
      "text/plain": [
       "{'username': 'it24103951', 'key': '83a77b7529647742e225c65cb06c3987'}"
      ]
     },
     "execution_count": 5,
     "metadata": {},
     "output_type": "execute_result"
    }
   ],
   "source": [
    "data"
   ]
  },
  {
   "cell_type": "code",
   "execution_count": 6,
   "id": "4414c80f-abcf-4962-81f4-d631ad0fe5a5",
   "metadata": {},
   "outputs": [
    {
     "name": "stdout",
     "output_type": "stream",
     "text": [
      "Collecting kaggle\n",
      "  Downloading kaggle-1.7.4.5-py3-none-any.whl.metadata (16 kB)\n",
      "Requirement already satisfied: bleach in c:\\users\\damin\\desktop\\it2011_group_project_g261\\env\\lib\\site-packages (from kaggle) (6.2.0)\n",
      "Requirement already satisfied: certifi>=14.05.14 in c:\\users\\damin\\desktop\\it2011_group_project_g261\\env\\lib\\site-packages (from kaggle) (2025.8.3)\n",
      "Requirement already satisfied: charset-normalizer in c:\\users\\damin\\desktop\\it2011_group_project_g261\\env\\lib\\site-packages (from kaggle) (3.4.3)\n",
      "Requirement already satisfied: idna in c:\\users\\damin\\desktop\\it2011_group_project_g261\\env\\lib\\site-packages (from kaggle) (3.10)\n",
      "Collecting protobuf (from kaggle)\n",
      "  Downloading protobuf-6.32.0-cp310-abi3-win_amd64.whl.metadata (593 bytes)\n",
      "Requirement already satisfied: python-dateutil>=2.5.3 in c:\\users\\damin\\desktop\\it2011_group_project_g261\\env\\lib\\site-packages (from kaggle) (2.9.0.post0)\n",
      "Collecting python-slugify (from kaggle)\n",
      "  Downloading python_slugify-8.0.4-py2.py3-none-any.whl.metadata (8.5 kB)\n",
      "Requirement already satisfied: requests in c:\\users\\damin\\desktop\\it2011_group_project_g261\\env\\lib\\site-packages (from kaggle) (2.32.5)\n",
      "Requirement already satisfied: setuptools>=21.0.0 in c:\\users\\damin\\desktop\\it2011_group_project_g261\\env\\lib\\site-packages (from kaggle) (80.9.0)\n",
      "Requirement already satisfied: six>=1.10 in c:\\users\\damin\\desktop\\it2011_group_project_g261\\env\\lib\\site-packages (from kaggle) (1.17.0)\n",
      "Collecting text-unidecode (from kaggle)\n",
      "  Downloading text_unidecode-1.3-py2.py3-none-any.whl.metadata (2.4 kB)\n",
      "Collecting tqdm (from kaggle)\n",
      "  Downloading tqdm-4.67.1-py3-none-any.whl.metadata (57 kB)\n",
      "Requirement already satisfied: urllib3>=1.15.1 in c:\\users\\damin\\desktop\\it2011_group_project_g261\\env\\lib\\site-packages (from kaggle) (2.5.0)\n",
      "Requirement already satisfied: webencodings in c:\\users\\damin\\desktop\\it2011_group_project_g261\\env\\lib\\site-packages (from kaggle) (0.5.1)\n",
      "Requirement already satisfied: colorama in c:\\users\\damin\\desktop\\it2011_group_project_g261\\env\\lib\\site-packages (from tqdm->kaggle) (0.4.6)\n",
      "Downloading kaggle-1.7.4.5-py3-none-any.whl (181 kB)\n",
      "Downloading protobuf-6.32.0-cp310-abi3-win_amd64.whl (435 kB)\n",
      "Downloading python_slugify-8.0.4-py2.py3-none-any.whl (10 kB)\n",
      "Downloading text_unidecode-1.3-py2.py3-none-any.whl (78 kB)\n",
      "Downloading tqdm-4.67.1-py3-none-any.whl (78 kB)\n",
      "Installing collected packages: text-unidecode, tqdm, python-slugify, protobuf, kaggle\n",
      "\n",
      "   -------- ------------------------------- 1/5 [tqdm]\n",
      "   -------- ------------------------------- 1/5 [tqdm]\n",
      "   -------- ------------------------------- 1/5 [tqdm]\n",
      "   -------- ------------------------------- 1/5 [tqdm]\n",
      "   -------- ------------------------------- 1/5 [tqdm]\n",
      "   -------- ------------------------------- 1/5 [tqdm]\n",
      "   -------- ------------------------------- 1/5 [tqdm]\n",
      "   -------- ------------------------------- 1/5 [tqdm]\n",
      "   -------- ------------------------------- 1/5 [tqdm]\n",
      "   -------- ------------------------------- 1/5 [tqdm]\n",
      "   -------- ------------------------------- 1/5 [tqdm]\n",
      "   ---------------- ----------------------- 2/5 [python-slugify]\n",
      "   ---------------- ----------------------- 2/5 [python-slugify]\n",
      "   ------------------------ --------------- 3/5 [protobuf]\n",
      "   ------------------------ --------------- 3/5 [protobuf]\n",
      "   ------------------------ --------------- 3/5 [protobuf]\n",
      "   ------------------------ --------------- 3/5 [protobuf]\n",
      "   ------------------------ --------------- 3/5 [protobuf]\n",
      "   ------------------------ --------------- 3/5 [protobuf]\n",
      "   ------------------------ --------------- 3/5 [protobuf]\n",
      "   ------------------------ --------------- 3/5 [protobuf]\n",
      "   ------------------------ --------------- 3/5 [protobuf]\n",
      "   ------------------------ --------------- 3/5 [protobuf]\n",
      "   ------------------------ --------------- 3/5 [protobuf]\n",
      "   ------------------------ --------------- 3/5 [protobuf]\n",
      "   ------------------------ --------------- 3/5 [protobuf]\n",
      "   -------------------------------- ------- 4/5 [kaggle]\n",
      "   -------------------------------- ------- 4/5 [kaggle]\n",
      "   -------------------------------- ------- 4/5 [kaggle]\n",
      "   -------------------------------- ------- 4/5 [kaggle]\n",
      "   -------------------------------- ------- 4/5 [kaggle]\n",
      "   -------------------------------- ------- 4/5 [kaggle]\n",
      "   -------------------------------- ------- 4/5 [kaggle]\n",
      "   -------------------------------- ------- 4/5 [kaggle]\n",
      "   -------------------------------- ------- 4/5 [kaggle]\n",
      "   -------------------------------- ------- 4/5 [kaggle]\n",
      "   -------------------------------- ------- 4/5 [kaggle]\n",
      "   -------------------------------- ------- 4/5 [kaggle]\n",
      "   -------------------------------- ------- 4/5 [kaggle]\n",
      "   -------------------------------- ------- 4/5 [kaggle]\n",
      "   -------------------------------- ------- 4/5 [kaggle]\n",
      "   ---------------------------------------- 5/5 [kaggle]\n",
      "\n",
      "Successfully installed kaggle-1.7.4.5 protobuf-6.32.0 python-slugify-8.0.4 text-unidecode-1.3 tqdm-4.67.1\n"
     ]
    }
   ],
   "source": [
    "!pip install kaggle"
   ]
  },
  {
   "cell_type": "code",
   "execution_count": 7,
   "id": "56b51352-8e78-47a0-ae76-36a75b9cfc5f",
   "metadata": {},
   "outputs": [],
   "source": [
    "import os \n",
    "os.environ['KAGGLE_USERNAME'] = data['username']\n",
    "os.environ['KAGGLE_KEY'] = data['key']"
   ]
  },
  {
   "cell_type": "code",
   "execution_count": 8,
   "id": "a72c7903-85d9-495e-8bb9-0d1d7991d613",
   "metadata": {},
   "outputs": [],
   "source": [
    "from kaggle.api.kaggle_api_extended import KaggleApi\n",
    "api = KaggleApi()\n",
    "api.authenticate()"
   ]
  },
  {
   "cell_type": "code",
   "execution_count": 9,
   "id": "13fddd0b-1228-4883-8759-db81ea6c5213",
   "metadata": {},
   "outputs": [
    {
     "name": "stdout",
     "output_type": "stream",
     "text": [
      "Dataset URL: https://www.kaggle.com/datasets/jayaantanaath/student-habits-vs-academic-performance\n"
     ]
    }
   ],
   "source": [
    "api.dataset_download_files('jayaantanaath/student-habits-vs-academic-performance',path ='../artiacts/') "
   ]
  },
  {
   "cell_type": "code",
   "execution_count": 29,
   "id": "3d7f389d-4272-462f-aafa-28712072710f",
   "metadata": {},
   "outputs": [],
   "source": [
    "import zipfile\n",
    "with zipfile.ZipFile('../artifacts/student-habits-vs-academic-performance.zip', 'r') as zip_ref:\n",
    "    zip_ref.extractall('../artifacts/')"
   ]
  },
  {
   "cell_type": "code",
   "execution_count": null,
   "id": "a9341438-272d-4a4a-ab12-259e1b26c7c1",
   "metadata": {},
   "outputs": [],
   "source": []
  }
 ],
 "metadata": {
  "kernelspec": {
   "display_name": "Python 3 (ipykernel)",
   "language": "python",
   "name": "python3"
  },
  "language_info": {
   "codemirror_mode": {
    "name": "ipython",
    "version": 3
   },
   "file_extension": ".py",
   "mimetype": "text/x-python",
   "name": "python",
   "nbconvert_exporter": "python",
   "pygments_lexer": "ipython3",
   "version": "3.13.7"
  }
 },
 "nbformat": 4,
 "nbformat_minor": 5
}
